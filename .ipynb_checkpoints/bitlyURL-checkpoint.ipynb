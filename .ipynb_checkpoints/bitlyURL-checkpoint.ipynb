{
 "cells": [
  {
   "cell_type": "markdown",
   "id": "de314d67-ba17-402b-997d-902c1c1bab3d",
   "metadata": {},
   "source": [
    "# **Bitly URL Shortener**"
   ]
  },
  {
   "cell_type": "code",
   "execution_count": 1,
   "id": "50724fa4-7a89-470d-99a7-3c7d1a9a487b",
   "metadata": {},
   "outputs": [],
   "source": [
    "import requests"
   ]
  },
  {
   "cell_type": "markdown",
   "id": "f640bea7-ed2d-48ec-9b0f-73095bd5c568",
   "metadata": {},
   "source": [
    "#### Login to Bitly account and get access code"
   ]
  },
  {
   "cell_type": "code",
   "execution_count": 9,
   "id": "db094684-ce78-45c5-be0c-06d113c61bf5",
   "metadata": {},
   "outputs": [],
   "source": [
    "# login\n",
    "username = 'MY_BITLY_USERNAME'\n",
    "password = 'MY_BITLY_PASSWORD'"
   ]
  },
  {
   "cell_type": "code",
   "execution_count": 3,
   "id": "8d0bae3a-673d-4b9f-ad57-20f3329e8bd6",
   "metadata": {},
   "outputs": [
    {
     "name": "stdout",
     "output_type": "stream",
     "text": [
      "Got access token:  256d11a157c17fc9fe296a97e4405ff60e2e9c68\n"
     ]
    }
   ],
   "source": [
    "# access token\n",
    "# makses a POST request to the url endpoint to retreve access token \n",
    "# pass user/password credentials to request header \n",
    "auth_res = requests.post(\"https://api-ssl.bitly.com/oauth/access_token\", auth=(username,password))\n",
    "if auth_res.status_code == 200:\n",
    "    access_token = auth_res.content.decode()\n",
    "    print('Got access token: ', access_token)\n",
    "\n",
    "else: \n",
    "    print('Access token failed, exiting...')\n",
    "    exit()"
   ]
  },
  {
   "cell_type": "code",
   "execution_count": 4,
   "id": "755c7ed6-02f7-4e2f-a5fb-e5b360a2cc7f",
   "metadata": {},
   "outputs": [],
   "source": [
    "# authorization via request headers -> access token \n",
    "headers = {\"Authorization\": f\"Bearer {access_token}\"}\n",
    "\n",
    "# GUID: Globally Unique Identifier \n",
    "# 128 bit number to idenity user accounts etc. \n",
    "groups_res = requests.get(\"https://api-ssl.bitly.com/v4/groups\", headers=headers)\n",
    "\n",
    "if groups_res.status_code == 200: \n",
    "    groups_data = groups_res.json()['groups'][0]\n",
    "    guid = groups_data['guid']\n",
    "else:\n",
    "    print('Cannot get GUID, exiting..')\n",
    "    exit()"
   ]
  },
  {
   "cell_type": "code",
   "execution_count": 5,
   "id": "bfb9d3f7-c34d-41d6-8c4d-9551d496cd75",
   "metadata": {},
   "outputs": [
    {
     "name": "stdin",
     "output_type": "stream",
     "text": [
      "URL:  https://github.com/brightondaniels\n"
     ]
    }
   ],
   "source": [
    "url = input(\"URL: \")"
   ]
  },
  {
   "cell_type": "code",
   "execution_count": 6,
   "id": "d2d01bec-34de-43a1-a2ed-de0ce1d2bb49",
   "metadata": {},
   "outputs": [
    {
     "data": {
      "text/plain": [
       "'https://github.com/brightondaniels'"
      ]
     },
     "execution_count": 6,
     "metadata": {},
     "output_type": "execute_result"
    }
   ],
   "source": [
    "url"
   ]
  },
  {
   "cell_type": "code",
   "execution_count": 8,
   "id": "24411ce3-2b24-43cd-92ae-1f2c971d36c1",
   "metadata": {},
   "outputs": [
    {
     "name": "stdout",
     "output_type": "stream",
     "text": [
      "Shortened URL:  https://bit.ly/34K4INH\n"
     ]
    }
   ],
   "source": [
    "shorten_res = requests.post(\"https://api-ssl.bitly.com/v4/shorten\", json={\"group_guid\": guid, \"long_url\": url}, headers=headers)\n",
    "\n",
    "if shorten_res.status_code == 200:\n",
    "    link = shorten_res.json().get(\"link\")\n",
    "    print(\"Shortened URL: \", link)"
   ]
  },
  {
   "cell_type": "code",
   "execution_count": null,
   "id": "2b7a8fa1-6da4-4612-a718-14197b9aa6c5",
   "metadata": {},
   "outputs": [],
   "source": []
  }
 ],
 "metadata": {
  "kernelspec": {
   "display_name": "Python 3",
   "language": "python",
   "name": "python3"
  },
  "language_info": {
   "codemirror_mode": {
    "name": "ipython",
    "version": 3
   },
   "file_extension": ".py",
   "mimetype": "text/x-python",
   "name": "python",
   "nbconvert_exporter": "python",
   "pygments_lexer": "ipython3",
   "version": "3.8.8"
  }
 },
 "nbformat": 4,
 "nbformat_minor": 5
}
