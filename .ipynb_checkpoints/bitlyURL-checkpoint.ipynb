{
 "cells": [
  {
   "cell_type": "markdown",
   "id": "de314d67-ba17-402b-997d-902c1c1bab3d",
   "metadata": {},
   "source": [
    "# **Bitly URL Shortener**"
   ]
  },
  {
   "cell_type": "code",
   "execution_count": 1,
   "id": "50724fa4-7a89-470d-99a7-3c7d1a9a487b",
   "metadata": {},
   "outputs": [],
   "source": [
    "import requests"
   ]
  },
  {
   "cell_type": "markdown",
   "id": "f640bea7-ed2d-48ec-9b0f-73095bd5c568",
   "metadata": {},
   "source": [
    "#### Login to Bitly account and get access token"
   ]
  },
  {
   "cell_type": "code",
   "execution_count": 2,
   "id": "db094684-ce78-45c5-be0c-06d113c61bf5",
   "metadata": {},
   "outputs": [],
   "source": [
    "# login credentials\n",
    "username = 'MY_BITLY_USERNAME'\n",
    "password = 'MY_BITLY_PASSWORD'"
   ]
  },
  {
   "cell_type": "code",
   "execution_count": 3,
   "id": "8d0bae3a-673d-4b9f-ad57-20f3329e8bd6",
   "metadata": {},
   "outputs": [
    {
     "name": "stdout",
     "output_type": "stream",
     "text": [
      "Got access token:  256d11a157c17fc9fe296a97e4405ff60e2e9c68\n"
     ]
    }
   ],
   "source": [
    "# access token\n",
    "# makses a POST request to the url endpoint to retreve access token \n",
    "# pass user/password credentials to request header \n",
    "auth_res = requests.post(\"https://api-ssl.bitly.com/oauth/access_token\", auth=(username,password))\n",
    "if auth_res.status_code == 200:\n",
    "    access_token = auth_res.content.decode()\n",
    "    print('Got access token: ', access_token)\n",
    "\n",
    "else: \n",
    "    print('Access token failed, exiting...')\n",
    "    exit()"
   ]
  },
  {
   "cell_type": "code",
   "execution_count": 4,
   "id": "755c7ed6-02f7-4e2f-a5fb-e5b360a2cc7f",
   "metadata": {},
   "outputs": [],
   "source": [
    "# authorization via request headers -> access token \n",
    "headers = {\"Authorization\": f\"Bearer {access_token}\"}\n",
    "\n",
    "# GUID: Globally Unique Identifier \n",
    "# 128 bit number to idenity user accounts etc. \n",
    "groups_res = requests.get(\"https://api-ssl.bitly.com/v4/groups\", headers=headers)\n",
    "\n",
    "if groups_res.status_code == 200: \n",
    "    groups_data = groups_res.json()['groups'][0]\n",
    "    guid = groups_data['guid']\n",
    "else:\n",
    "    print('Cannot get GUID, exiting..')\n",
    "    exit()"
   ]
  },
  {
   "cell_type": "code",
   "execution_count": 5,
   "id": "ee1da325-10bf-4076-88bf-bc5720b8aa0e",
   "metadata": {},
   "outputs": [],
   "source": [
    "example_url = 'https://pyshorteners.readthedocs.io/en/latest/apis/pyshorteners.shorteners.html#module-pyshorteners.shorteners.bitly'"
   ]
  },
  {
   "cell_type": "code",
   "execution_count": 6,
   "id": "bfb9d3f7-c34d-41d6-8c4d-9551d496cd75",
   "metadata": {},
   "outputs": [
    {
     "name": "stdin",
     "output_type": "stream",
     "text": [
      "URL:  https://pyshorteners.readthedocs.io/en/latest/apis/pyshorteners.shorteners.html#module-pyshorteners.shorteners.bitly\n"
     ]
    },
    {
     "data": {
      "text/plain": [
       "'https://pyshorteners.readthedocs.io/en/latest/apis/pyshorteners.shorteners.html#module-pyshorteners.shorteners.bitly'"
      ]
     },
     "execution_count": 6,
     "metadata": {},
     "output_type": "execute_result"
    }
   ],
   "source": [
    "url = input(\"URL: \")\n",
    "url"
   ]
  },
  {
   "cell_type": "code",
   "execution_count": 7,
   "id": "24411ce3-2b24-43cd-92ae-1f2c971d36c1",
   "metadata": {},
   "outputs": [
    {
     "name": "stdout",
     "output_type": "stream",
     "text": [
      "Shortened URL:  https://bit.ly/33o93FO\n"
     ]
    }
   ],
   "source": [
    "shorten_res = requests.post(\"https://api-ssl.bitly.com/v4/shorten\", json={\"group_guid\": guid, \"long_url\": url}, headers=headers)\n",
    "\n",
    "if shorten_res.status_code == 200:\n",
    "    link = shorten_res.json().get(\"link\")\n",
    "    print(\"Shortened URL: \", link)"
   ]
  },
  {
   "cell_type": "markdown",
   "id": "3a834a8b-90c8-408f-99a8-d57211acf0cf",
   "metadata": {},
   "source": [
    "---\n",
    "## Pyshorteners Library\n",
    "---"
   ]
  },
  {
   "cell_type": "code",
   "execution_count": 8,
   "id": "45c6e250-afe1-4dc1-8bb2-d73be0ab7449",
   "metadata": {},
   "outputs": [],
   "source": [
    "import pyshorteners\n",
    "\n",
    "# doesn't login to access the token -> assumes already there \n",
    "s = pyshorteners.Shortener(api_key=access_token)"
   ]
  },
  {
   "cell_type": "code",
   "execution_count": 9,
   "id": "07c3e786-3c8b-43d0-88c9-7bf96b6f2f0e",
   "metadata": {},
   "outputs": [
    {
     "name": "stdin",
     "output_type": "stream",
     "text": [
      "URL:  https://pyshorteners.readthedocs.io/en/latest/apis/pyshorteners.shorteners.html#module-pyshorteners.shorteners.bitly\n"
     ]
    },
    {
     "data": {
      "text/plain": [
       "'https://pyshorteners.readthedocs.io/en/latest/apis/pyshorteners.shorteners.html#module-pyshorteners.shorteners.bitly'"
      ]
     },
     "execution_count": 9,
     "metadata": {},
     "output_type": "execute_result"
    }
   ],
   "source": [
    "url = input(\"URL: \")\n",
    "url"
   ]
  },
  {
   "cell_type": "code",
   "execution_count": 10,
   "id": "07a2dd64-c585-4f9d-9765-f91cd2499867",
   "metadata": {},
   "outputs": [
    {
     "name": "stdout",
     "output_type": "stream",
     "text": [
      "https://bit.ly/33o93FO\n"
     ]
    }
   ],
   "source": [
    "short_url = s.bitly.short(url)\n",
    "print(short_url)"
   ]
  },
  {
   "cell_type": "markdown",
   "id": "603f7100-9ad0-49bb-8d24-43f93ab11a36",
   "metadata": {},
   "source": [
    "---\n",
    "## Extras:\n",
    "#### Clicks On Link"
   ]
  },
  {
   "cell_type": "code",
   "execution_count": 11,
   "id": "b39cfd94-d70f-40c1-99a3-e5a6daf7db2e",
   "metadata": {},
   "outputs": [
    {
     "name": "stdout",
     "output_type": "stream",
     "text": [
      "0\n"
     ]
    }
   ],
   "source": [
    "clicks = s.bitly.total_clicks(short_url)\n",
    "print(clicks)"
   ]
  },
  {
   "cell_type": "markdown",
   "id": "2b70f077-2506-4f8d-8d32-2b4ebbec3196",
   "metadata": {},
   "source": [
    "#### Expand URL"
   ]
  },
  {
   "cell_type": "code",
   "execution_count": 12,
   "id": "53b6fae8-1181-4aa0-b4e5-acc4b6463b25",
   "metadata": {},
   "outputs": [
    {
     "name": "stdout",
     "output_type": "stream",
     "text": [
      "https://pyshorteners.readthedocs.io/en/latest/apis/pyshorteners.shorteners.html#module-pyshorteners.shorteners.bitly\n"
     ]
    }
   ],
   "source": [
    "expand = s.bitly.expand(short_url)\n",
    "print(expand)"
   ]
  },
  {
   "cell_type": "code",
   "execution_count": null,
   "id": "e78c70ff-5351-4ff4-a1f2-2fad18d46991",
   "metadata": {},
   "outputs": [],
   "source": []
  }
 ],
 "metadata": {
  "kernelspec": {
   "display_name": "Python 3",
   "language": "python",
   "name": "python3"
  },
  "language_info": {
   "codemirror_mode": {
    "name": "ipython",
    "version": 3
   },
   "file_extension": ".py",
   "mimetype": "text/x-python",
   "name": "python",
   "nbconvert_exporter": "python",
   "pygments_lexer": "ipython3",
   "version": "3.8.8"
  }
 },
 "nbformat": 4,
 "nbformat_minor": 5
}
